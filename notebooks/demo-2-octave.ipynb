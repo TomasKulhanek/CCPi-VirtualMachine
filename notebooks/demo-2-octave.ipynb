{
 "cells": [
  {
   "cell_type": "markdown",
   "metadata": {},
   "source": [
    "# CCPi using Octave in computation\n",
    "\n",
    "This notebook contains basic demo how to use CCPi with GNU Octave and/or MATLAB &trade;.\n",
    "\n",
    "First, we create 3d plot  "
   ]
  },
  {
   "cell_type": "code",
   "execution_count": null,
   "metadata": {},
   "outputs": [],
   "source": [
    "%plot --format png\n",
    "tx = ty = linspace (-9, 9, 41)';\n",
    "[xx, yy] = meshgrid (tx, ty);\n",
    "r = sqrt (xx .^ 2 + yy .^ 2) + eps;\n",
    "tz = sin (r) ./ r;\n",
    "mesh (tx, ty, tz);"
   ]
  },
  {
   "cell_type": "code",
   "execution_count": 6,
   "metadata": {},
   "outputs": [
    {
     "name": "stdout",
     "output_type": "stream",
     "text": [
      "error: imfinfo: support for Image IO was unavailable or disabled when Octave was built\n",
      "error: called from\n",
      "    __imread__ at line 80 column 10\n",
      "    imageIO at line 117 column 26\n",
      "    imread at line 106 column 30\n"
     ]
    }
   ],
   "source": [
    "% Volume (3D) denoising demo using CCPi-RGL\n",
    "clear; close all\n",
    "Path1 = sprintf(['mex_compile' filesep 'installed'], 1i);\n",
    "Path2 = sprintf(['data' filesep], 1i);\n",
    "addpath(Path1);\n",
    "addpath(Path2);\n",
    "\n",
    "N = 512; \n",
    "slices = 15;\n",
    "vol3D = zeros(N,N,slices, 'single');\n",
    "Ideal3D = zeros(N,N,slices, 'single');\n",
    "Im = double(imread('lena_gray_512.tif'))/255;  % loading image\n"
   ]
  },
  {
   "cell_type": "code",
   "execution_count": 5,
   "metadata": {},
   "outputs": [
    {
     "name": "stdout",
     "output_type": "stream",
     "text": [
      "error: 'Im' undefined near line 1 column 1\n"
     ]
    }
   ],
   "source": [
    "for i = 1:slices\n",
    "vol3D(:,:,i) = Im + .05*randn(size(Im)); \n",
    "Ideal3D(:,:,i) = Im;\n",
    "end\n",
    "vol3D(vol3D < 0) = 0;\n",
    "figure; imshow(vol3D(:,:,15), [0 1]); title('Noisy image');\n"
   ]
  },
  {
   "cell_type": "code",
   "execution_count": 10,
   "metadata": {},
   "outputs": [
    {
     "name": "stdout",
     "output_type": "stream",
     "text": [
      "error: imfinfo: support for Image IO was unavailable or disabled when Octave was built\n",
      "error: called from\n",
      "    __imread__ at line 80 column 10\n",
      "    imageIO at line 117 column 26\n",
      "    imread at line 106 column 30\n"
     ]
    }
   ],
   "source": [
    "imread('lena_gray_512.tif')"
   ]
  },
  {
   "cell_type": "code",
   "execution_count": null,
   "metadata": {},
   "outputs": [],
   "source": []
  }
 ],
 "metadata": {
  "kernelspec": {
   "display_name": "Octave",
   "language": "octave",
   "name": "octave"
  },
  "language_info": {
   "file_extension": ".m",
   "help_links": [
    {
     "text": "GNU Octave",
     "url": "https://www.gnu.org/software/octave/support.html"
    },
    {
     "text": "Octave Kernel",
     "url": "https://github.com/Calysto/octave_kernel"
    },
    {
     "text": "MetaKernel Magics",
     "url": "https://github.com/calysto/metakernel/blob/master/metakernel/magics/README.md"
    }
   ],
   "mimetype": "text/x-octave",
   "name": "octave",
   "version": "4.2.1"
  }
 },
 "nbformat": 4,
 "nbformat_minor": 2
}
