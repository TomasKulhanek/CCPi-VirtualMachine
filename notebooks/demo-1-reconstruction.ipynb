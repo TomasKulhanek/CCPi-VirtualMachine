{
 "cells": [
  {
   "cell_type": "markdown",
   "metadata": {},
   "source": [
    "# CCPi Iterative Reconstruction Algorithms\n",
    "\n",
    "This notebook contains basic demo how to use CCPi reconstruction algorithms.",
    "\n",
"There are three main iterative reconstructions available in this package. they are",
    "\n",
"* Conjugate Gradient Least Squares (CGLS)",
"* Maximum Likelihood Estimation Method (MLEM)",
"* Simultaneous Iterative Reconstructive Technique (SIRT)",
"\n",
"In addition to the above methods there are three more varients of CGLS available in this package. they are",
"\n",
"* CGLS with Convolution",
"* CGLS with Tikhonov regularization",
"* CGLS with Total Variation Regularisation (TV)"
   ]
  },
  {
   "cell_type": "code",
   "execution_count": 10,
   "metadata": {},
   "outputs": [],
   "source": [
    "from ccpi.reconstruction.parallelbeam import alg\n",
    "import numpy\n",
    "import h5py"
   ]
  },
  {
   "cell_type": "markdown",
   "metadata": {},
   "source": [
    "Download demo data from github using urllib.request."
   ]
  },
  {
   "cell_type": "code",
   "execution_count": 11,
   "metadata": {},
   "outputs": [
    {
     "data": {
      "text/plain": [
       "('24737_fd.nxs', <http.client.HTTPMessage at 0x7f7f65e40d30>)"
      ]
     },
     "execution_count": 11,
     "metadata": {},
     "output_type": "execute_result"
    }
   ],
   "source": [
    "import urllib.request\n",
    "urllib.request.urlretrieve(\"https://github.com/DiamondLightSource/Savu/blob/master/test_data/data/24737_fd.nxs?raw=true\", \"24737_fd.nxs\")\n",
    "# https://github.com/DiamondLightSource/Savu/blob/master/test_data/data/24737_fd.nxs?raw=true\n",
    "#import wget\n",
    "#wget.download(\"https://github.com/DiamondLightSource/Savu/blob/master/test_data/data/24737_fd.nxs?raw=true\", \"24737_fd.nxs\")"
   ]
  },
  {
   "cell_type": "markdown",
   "metadata": {},
   "source": [
    "After imports one should load the dataset. The pre-processing, i.e. load the nexus (hdf5) file, extracting the angles and image data, scaling to 0-1 scalar range are done within the load_data function."
   ]
  },
  {
   "cell_type": "code",
   "execution_count": 12,
   "metadata": {},
   "outputs": [],
   "source": [
    "def load_data(filename):\n",
    "    '''Load a dataset stored in a NeXuS file (HDF5)'''\n",
    "    print (\"Loading Data\")\n",
    "    nx = h5py.File(filename, \"r\")\n",
    "    data = nx.get('entry1/tomo_entry/data/rotation_angle')\n",
    "    angles = numpy.zeros(data.shape)\n",
    "    data.read_direct(angles)\n",
    "    print (angles)\n",
    "    data = nx.get('entry1/tomo_entry/data/data')\n",
    "    stack = numpy.zeros(data.shape)\n",
    "    data.read_direct(stack)\n",
    "    print (data.shape)\n",
    "    print (\"Data Loaded\")\n",
    "    # Normalize\n",
    "    data = nx.get('entry1/tomo_entry/instrument/detector/image_key')\n",
    "    itype = numpy.zeros(data.shape)\n",
    "    data.read_direct(itype)\n",
    "    # 2 is dark field\n",
    "    darks = [stack[i] for i in range(len(itype)) if itype[i] == 2 ]\n",
    "    dark = darks[0]\n",
    "    for i in range(1, len(darks)):\n",
    "        dark += darks[i]\n",
    "    dark = dark / len(darks)\n",
    "    # 1 is flat field\n",
    "    flats = [stack[i] for i in range(len(itype)) if itype[i] == 1 ]\n",
    "    flat = flats[0]\n",
    "    for i in range(1, len(flats)):\n",
    "        flat += flats[i]\n",
    "    flat = flat / len(flats)\n",
    "    # 0 is projection data\n",
    "    proj = [stack[i] for i in range(len(itype)) if itype[i] == 0 ]\n",
    "    angle_proj = [angles[i] for i in range(len(itype)) if itype[i] == 0 ]\n",
    "    angle_proj = numpy.asarray (angle_proj)\n",
    "    angle_proj = angle_proj.astype(numpy.float32)\n",
    "    def normalize(projection, dark, flat, def_val=0.1):\n",
    "        a = (projection - dark)\n",
    "        b = (flat-dark)\n",
    "        with numpy.errstate(divide='ignore', invalid='ignore'):\n",
    "            c = numpy.true_divide( a, b )\n",
    "            c[ ~ numpy.isfinite( c )] = def_val  # set to not zero if 0/0 \n",
    "        return c\n",
    "    norm = [normalize(projection, dark, flat) for projection in proj]\n",
    "    norm = numpy.asarray (norm)\n",
    "    norm = norm.astype(numpy.float32)\n",
    "    return norm, angle_proj\n"
   ]
  },
  {
   "cell_type": "code",
   "execution_count": 13,
   "metadata": {},
   "outputs": [
    {
     "name": "stdout",
     "output_type": "stream",
     "text": [
      "Loading Data\n",
      "[-88.2    -88.2    -88.2    -88.2    -88.2    -88.2    -88.2    -88.2    -88.2\n",
      " -88.2    -88.2    -86.2    -84.2001 -82.2    -80.2    -78.2    -76.1999\n",
      " -74.2    -72.1999 -70.2    -68.2    -66.2    -64.1999 -62.2    -60.2    -58.2\n",
      " -56.2    -54.2    -52.2    -50.2    -48.2    -46.2    -44.1999 -42.1999\n",
      " -40.2    -38.2    -36.1997 -34.2    -32.2    -30.2    -28.2    -26.2    -24.2\n",
      " -22.2    -20.2    -18.2    -16.2    -14.2    -12.2    -10.1999  -8.2     -6.2\n",
      "  -4.1999  -2.2     -0.2      1.8      3.8001   5.8      7.8      9.8\n",
      "  11.7999  13.8     15.7999  17.8     19.8     21.8     23.8     25.8     27.8\n",
      "  29.8     31.8     33.8     35.8     37.8     39.8     41.8     43.7999\n",
      "  45.8     47.8     49.8     51.8     53.8     55.8     57.8     59.8     61.8\n",
      "  63.8     65.8     67.8001  69.8     71.8     73.8     75.8     77.8     79.8\n",
      "  81.8     83.8     85.8     87.8     89.8     91.7999  91.8     91.8     91.8\n",
      "  91.8     91.8     91.8     91.8     91.8     91.8     91.8   ]\n",
      "(111, 135, 160)\n",
      "Data Loaded\n"
     ]
    }
   ],
   "source": [
    "filename = \"24737_fd.nxs\"\n",
    "## TODO load_data is not defined - where it came from???\n",
    "norm, angle_proj = load_data(filename)"
   ]
  },
  {
   "cell_type": "markdown",
   "metadata": {},
   "source": [
    "Data can now be passed to the reconstruction algorithms."
   ]
  },
  {
   "cell_type": "code",
   "execution_count": null,
   "metadata": {},
   "outputs": [],
   "source": [
    "## Data can now be passed to the reconstruction algorithms:\n",
    "## CGLS, MLEM, SIRT, CGLS_CONV, CGLS_TIKHONOV, CGLS_TVregularization\n",
    "# center of rotation\n",
    "center_of_rotation = numpy.double(86.2)\n",
    "# resolution\n",
    "resolution = 1\n",
    "# number of iterations\n",
    "niterations = 15\n",
    "# number of threads\n",
    "threads = 3\n",
    "#data are in log scale?\n",
    "isPixelDataInLogScale = False\n",
    "\n",
    "\n",
    "# CGLS\n",
    "img_cgls = alg.cgls(norm, angle_proj, center_of_rotation , resolution ,\n",
    "                    niterations, threads, isPixelDataInLogScale)\n",
    "# MLEM\n",
    "img_mlem = alg.mlem(norm, angle_proj,  center_of_rotation , resolution ,\n",
    "                    niterations, threads, isPixelDataInLogScale)\n",
    "# SIRT\n",
    "img_sirt = alg.sirt(norm, angle_proj, center_of_rotation , resolution ,\n",
    "                    niterations, threads, isPixelDataInLogScale)\n",
    "\n",
    "# CGLS CONV\n",
    "iteration_values1 = numpy.zeros((niterations,))\n",
    "img_cgls_conv = alg.cgls_conv(norm, angle_proj, center_of_rotation ,\n",
    "                              resolution ,\n",
    "                              niterations , threads,\n",
    "                              iteration_values1 , isPixelDataInLogScale)\n",
    "\n",
    "#Regularization parameter\n",
    "regularization = numpy.double(1e-3)\n",
    "\n",
    "# CGLS TIKHONOV\n",
    "iteration_values2 = numpy.zeros((niterations,))\n",
    "img_cgls_tikhonov = alg.cgls_tikhonov(norm, angle_proj, center_of_rotation ,\n",
    "                                      resolution , niterations, threads,\n",
    "                                      regularization, iteration_values2 ,\n",
    "                                      isPixelDataInLogScale)\n",
    "\n",
    "# CGLS Total Variation Regularization\n",
    "iteration_values3 = numpy.zeros((niterations,))\n",
    "img_cgls_TVreg = alg.cgls_TVreg(norm, angle_proj, center_of_rotation ,\n",
    "                                resolution ,  niterations, threads,\n",
    "                                      regularization, iteration_values3,\n",
    "                                      isPixelDataInLogScale)\n",
    "\n"
   ]
  },
  {
   "cell_type": "markdown",
   "metadata": {},
   "source": [
    "One may want to compare the results of the reconstruction algorithms:"
   ]
  },
  {
   "cell_type": "code",
   "execution_count": null,
   "metadata": {},
   "outputs": [],
   "source": [
    "%matplotlib notebook\n",
    "import matplotlib.pyplot as plt\n",
    "fs = 10\n",
    "fig, ax = plt.subplots(1,6,sharey=True)\n",
    "ax[0].imshow(img_cgls[80])\n",
    "ax[0].axis('off')  # clear x- and y-axes\n",
    "ax[0].set_title(\"CGLS\" , fontsize = fs)\n",
    "\n",
    "ax[1].imshow(img_sirt[80])\n",
    "ax[1].axis('off')  # clear x- and y-axes\n",
    "ax[1].set_title(\"SIRT\" , fontsize = fs)\n",
    "\n",
    "ax[2].imshow(img_mlem[80])\n",
    "ax[2].axis('off')  # clear x- and y-axesplt.show()\n",
    "ax[2].set_title(\"MLEM\" , fontsize = fs)\n",
    "\n",
    "ax[3].imshow(img_cgls_conv[80])\n",
    "ax[3].axis('off')  # clear x- and y-axesplt.show()\n",
    "ax[3].set_title(\"CGLS CONV\" , fontsize = fs)\n",
    "\n",
    "ax[4].imshow(img_cgls_tikhonov[80])\n",
    "ax[4].axis('off')  # clear x- and y-axesplt.show()\n",
    "ax[4].set_title(\"Tikhonov\" , fontsize = fs)\n",
    "\n",
    "ax[5].imshow(img_cgls_TVreg[80])\n",
    "ax[5].axis('off')  # clear x- and y-axesplt.show()\n",
    "ax[5].set_title(\"TV Reg\" , fontsize = fs)\n",
    "plt.show()"
   ]
  }
 ],
 "metadata": {
  "kernelspec": {
   "display_name": "Python 3",
   "language": "python",
   "name": "python3"
  },
  "language_info": {
   "codemirror_mode": {
    "name": "ipython",
    "version": 3
   },
   "file_extension": ".py",
   "mimetype": "text/x-python",
   "name": "python",
   "nbconvert_exporter": "python",
   "pygments_lexer": "ipython3",
   "version": "3.5.4"
  }
 },
 "nbformat": 4,
 "nbformat_minor": 2
}
